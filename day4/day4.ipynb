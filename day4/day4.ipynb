{
 "cells": [
  {
   "attachments": {},
   "cell_type": "markdown",
   "metadata": {},
   "source": [
    "### https://adventofcode.com/2022/day/4\n",
    "\n",
    "\n",
    "### Part 1\n",
    "### In how many assignment pairs does one range fully contain the other?"
   ]
  },
  {
   "cell_type": "code",
   "execution_count": 1,
   "metadata": {},
   "outputs": [],
   "source": [
    "import math\n",
    "import numpy as np\n",
    "# from pathlib import Path\n",
    "# import os\n",
    "# from os.path import join, getsize"
   ]
  },
  {
   "cell_type": "code",
   "execution_count": 4,
   "metadata": {},
   "outputs": [
    {
     "name": "stdout",
     "output_type": "stream",
     "text": [
      "[['2-5' '15-90']\n",
      " ['42-93' '43-57']\n",
      " ['71-95' '72-81']\n",
      " ['19-92' '2-93']\n",
      " ['21-92' '57-93']]\n",
      "(1000, 2)\n"
     ]
    }
   ],
   "source": [
    "# Formatting the instructions.\n",
    "\n",
    "puzzle = np.loadtxt('day4/puzzle.txt', dtype=str, delimiter=',')\n",
    "print(puzzle[0:5])\n",
    "print(puzzle.shape)"
   ]
  },
  {
   "cell_type": "code",
   "execution_count": 13,
   "metadata": {},
   "outputs": [
    {
     "name": "stdout",
     "output_type": "stream",
     "text": [
      "462\n"
     ]
    }
   ],
   "source": [
    "# Cycle through the instructions checking if one range is completely comtained by the other.\n",
    "\n",
    "count = 0\n",
    "\n",
    "for i in range(puzzle.shape[0]):\n",
    "    pair0, pair1 = puzzle[i][0].split('-'), puzzle[i][1].split('-')\n",
    "    pair0 = [int(pair0[0]), int(pair0[1])]\n",
    "    pair1 = [int(pair1[0]), int(pair1[1])]\n",
    "    test = ((pair0[0] <= pair1[0]) and (pair0[1] >= pair1[1])) or ((pair1[0] <= pair0[0]) and (pair1[1] >= pair0[1]))\n",
    "    if test:\n",
    "        count += 1\n",
    "\n",
    "print(count)"
   ]
  },
  {
   "attachments": {},
   "cell_type": "markdown",
   "metadata": {},
   "source": [
    "### Part 2"
   ]
  },
  {
   "cell_type": "code",
   "execution_count": 15,
   "metadata": {},
   "outputs": [
    {
     "name": "stdout",
     "output_type": "stream",
     "text": [
      "835\n"
     ]
    }
   ],
   "source": [
    "# Cycle through the instructions checking if one range overlaps with the other at all.\n",
    "\n",
    "count = 0\n",
    "\n",
    "for i in range(puzzle.shape[0]):\n",
    "    pair0, pair1 = puzzle[i][0].split('-'), puzzle[i][1].split('-')\n",
    "    pair0 = [int(pair0[0]), int(pair0[1])]\n",
    "    pair1 = [int(pair1[0]), int(pair1[1])]\n",
    "    test = (pair1[0] <= pair0[0] <= pair1[1]) or (pair1[0] >= pair0[1] >= pair1[1]) or (pair0[0] <= pair1[0] <= pair0[1]) or (pair0[0] <= pair1[0] <= pair0[1])\n",
    "    if test:\n",
    "        count += 1\n",
    "\n",
    "print(count)\n"
   ]
  },
  {
   "cell_type": "code",
   "execution_count": null,
   "metadata": {},
   "outputs": [],
   "source": []
  }
 ],
 "metadata": {
  "kernelspec": {
   "display_name": "base",
   "language": "python",
   "name": "python3"
  },
  "language_info": {
   "codemirror_mode": {
    "name": "ipython",
    "version": 3
   },
   "file_extension": ".py",
   "mimetype": "text/x-python",
   "name": "python",
   "nbconvert_exporter": "python",
   "pygments_lexer": "ipython3",
   "version": "3.9.12"
  },
  "orig_nbformat": 4,
  "vscode": {
   "interpreter": {
    "hash": "b7ffbdd53f3ea0fd0c7a94616743709fd86dfccfc1416e10d32c8cc9c51bfe9f"
   }
  }
 },
 "nbformat": 4,
 "nbformat_minor": 2
}
