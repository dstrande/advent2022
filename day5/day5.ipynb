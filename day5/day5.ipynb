{
 "cells": [
  {
   "attachments": {},
   "cell_type": "markdown",
   "metadata": {},
   "source": [
    "### https://adventofcode.com/2022/day/5\n",
    "\n",
    "\n",
    "### Part 1\n",
    "### After the rearrangement procedure completes, what crate ends up on top of each stack?"
   ]
  },
  {
   "cell_type": "code",
   "execution_count": 2,
   "metadata": {},
   "outputs": [],
   "source": [
    "import math\n",
    "import numpy as np\n",
    "# from pathlib import Path\n",
    "# import os\n",
    "# from os.path import join, getsize"
   ]
  },
  {
   "cell_type": "code",
   "execution_count": 15,
   "metadata": {},
   "outputs": [
    {
     "name": "stdout",
     "output_type": "stream",
     "text": [
      "[['move' '8' 'from' '7' 'to' '1']\n",
      " ['move' '9' 'from' '1' 'to' '9']\n",
      " ['move' '4' 'from' '5' 'to' '4']\n",
      " ['move' '4' 'from' '6' 'to' '1']\n",
      " ['move' '3' 'from' '8' 'to' '5']]\n",
      "(503, 6)\n",
      "[[8 7 1]\n",
      " [9 1 9]\n",
      " [4 5 4]\n",
      " [4 6 1]\n",
      " [3 8 5]]\n"
     ]
    }
   ],
   "source": [
    "# Formatting the instructions.\n",
    "\n",
    "puzzle = np.loadtxt('day5/puzzle.txt', dtype=str, skiprows=10)\n",
    "print(puzzle[0:5])\n",
    "print(puzzle.shape)\n",
    "puzzle = puzzle[:, [1,3,5]]\n",
    "puzzle = puzzle.astype('int32')\n",
    "print(puzzle[0:5])"
   ]
  },
  {
   "cell_type": "code",
   "execution_count": 45,
   "metadata": {},
   "outputs": [],
   "source": [
    "# Crate positions with the first character being the top of the stack.\n",
    "\n",
    "crates = ['RCH', 'FSLHJB', 'QTJHDMR', 'JBZHRGS', 'BCDTZFPR', 'GCHT', 'LWPBZVNS', 'CGQJR', 'SFPHRTDL']"
   ]
  },
  {
   "cell_type": "code",
   "execution_count": 46,
   "metadata": {},
   "outputs": [
    {
     "name": "stdout",
     "output_type": "stream",
     "text": [
      "['SFHCTGHFQVM', 'HCPZBJR', 'QDZDRJ', 'W', 'SGJ', 'R', 'BT', 'DTRTJSRLLGPZNCHCSHHBRFPB', 'L']\n",
      "SHQWSRBDL\n"
     ]
    }
   ],
   "source": [
    "# Cycle through the instructions reversing the order of the crates picked up.\n",
    "\n",
    "for i in range(puzzle.shape[0]):\n",
    "    move_num, from_stack, to_stack = puzzle[i]  # e.g. 8 7 1\n",
    "    to_move = crates[from_stack - 1][:move_num][::-1]  # e.g. SNVZBPWL\n",
    "    crates[from_stack - 1] = crates[from_stack - 1][move_num:]  # e.g. empty string ''\n",
    "    crates[to_stack - 1] = to_move + crates[to_stack - 1]  # e.g. SNVZBPWLRCH\n",
    "\n",
    "print(crates)\n",
    "to_print = ''\n",
    "for i in range(9):\n",
    "    to_print += crates[i][0]\n",
    "\n",
    "print(to_print)"
   ]
  },
  {
   "attachments": {},
   "cell_type": "markdown",
   "metadata": {},
   "source": [
    "### Part 2"
   ]
  },
  {
   "cell_type": "code",
   "execution_count": 47,
   "metadata": {},
   "outputs": [
    {
     "name": "stdout",
     "output_type": "stream",
     "text": [
      "['CQBTJTRHMDS', 'DZCNTPB', 'TWRHRS', 'Q', 'ZZF', 'H', 'BG', 'RRFPJHFVSLRHLDJPCJCHLBGG', 'S']\n",
      "CDTQZHBRS\n"
     ]
    }
   ],
   "source": [
    "# Cycle through the instructions without reversing the order of the crates picked up.\n",
    "\n",
    "crates = ['RCH', 'FSLHJB', 'QTJHDMR', 'JBZHRGS', 'BCDTZFPR', 'GCHT', 'LWPBZVNS', 'CGQJR', 'SFPHRTDL']\n",
    "\n",
    "for i in range(puzzle.shape[0]):\n",
    "    move_num, from_stack, to_stack = puzzle[i]\n",
    "    to_move = crates[from_stack - 1][:move_num]\n",
    "    crates[from_stack - 1] = crates[from_stack - 1][move_num:]\n",
    "    crates[to_stack - 1] = to_move + crates[to_stack - 1]\n",
    "\n",
    "print(crates)\n",
    "to_print = ''\n",
    "for i in range(9):\n",
    "    to_print += crates[i][0]\n",
    "\n",
    "print(to_print)\n"
   ]
  },
  {
   "cell_type": "code",
   "execution_count": null,
   "metadata": {},
   "outputs": [],
   "source": []
  }
 ],
 "metadata": {
  "kernelspec": {
   "display_name": "base",
   "language": "python",
   "name": "python3"
  },
  "language_info": {
   "codemirror_mode": {
    "name": "ipython",
    "version": 3
   },
   "file_extension": ".py",
   "mimetype": "text/x-python",
   "name": "python",
   "nbconvert_exporter": "python",
   "pygments_lexer": "ipython3",
   "version": "3.9.12"
  },
  "orig_nbformat": 4,
  "vscode": {
   "interpreter": {
    "hash": "b7ffbdd53f3ea0fd0c7a94616743709fd86dfccfc1416e10d32c8cc9c51bfe9f"
   }
  }
 },
 "nbformat": 4,
 "nbformat_minor": 2
}
