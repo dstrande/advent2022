{
 "cells": [
  {
   "attachments": {},
   "cell_type": "markdown",
   "metadata": {},
   "source": [
    "### https://adventofcode.com/2022/day/8\n",
    "\n",
    "\n",
    "### Part 1\n",
    "### Consider your map; how many trees are visible from outside the grid??"
   ]
  },
  {
   "cell_type": "code",
   "execution_count": 21,
   "metadata": {},
   "outputs": [],
   "source": [
    "import math\n",
    "import numpy as np\n",
    "from pathlib import Path\n",
    "import os\n",
    "from os.path import join, getsize"
   ]
  },
  {
   "cell_type": "code",
   "execution_count": 2,
   "metadata": {},
   "outputs": [
    {
     "name": "stdout",
     "output_type": "stream",
     "text": [
      "['$ cd /' '$ ls' 'dir bsnqsfm' ... '$ cd zzclqz' '$ ls' '217719 vcq.flg']\n",
      "(1010,)\n",
      "$ cd /\n"
     ]
    }
   ],
   "source": [
    "puzzle = np.loadtxt('day7/puzzle.txt', dtype=str, delimiter=',')\n",
    "print(puzzle)\n",
    "print(puzzle.shape)\n",
    "print(puzzle[0])\n",
    "directory = 'day7/files'"
   ]
  },
  {
   "cell_type": "code",
   "execution_count": 15,
   "metadata": {},
   "outputs": [],
   "source": [
    "# Creating the full directory in my os with file sizes as the file names.\n",
    "\n",
    "for i in range((puzzle.shape)[0]):\n",
    "    if puzzle[i] == '$ cd /':\n",
    "        directory = 'day7/files'\n",
    "\n",
    "    elif puzzle[i] == '$ cd ..':\n",
    "        directory = directory[:(directory.rfind('/'))]\n",
    "\n",
    "    elif ((puzzle[i][:4] == '$ cd') and (puzzle[i] != '$ cd /') and (puzzle[i] != '$ cd ..')):\n",
    "        directory += f'/{puzzle[i][5:]}'\n",
    "        Path(directory).mkdir(parents=True, exist_ok=True)\n",
    "\n",
    "    elif puzzle[i][0].isnumeric():\n",
    "        size = puzzle[i].split()[0]\n",
    "        file = np.array([puzzle[i].split()[1]])\n",
    "        np.savetxt(f'{directory}/{size}.txt', file, fmt='%s')\n",
    "        \n",
    "    else:\n",
    "        pass"
   ]
  },
  {
   "cell_type": "code",
   "execution_count": 32,
   "metadata": {},
   "outputs": [],
   "source": [
    "df_root = []\n",
    "df_dirs = []\n",
    "df_files = []\n",
    "root_dir = 'day7/files'\n",
    "\n",
    "for root, dirs, files in os.walk(root_dir):\n",
    "    df_root.append(root.replace('\\\\', '/'))\n",
    "    df_dirs.append(dirs)\n",
    "    df_files.append(files)"
   ]
  },
  {
   "cell_type": "code",
   "execution_count": 44,
   "metadata": {},
   "outputs": [],
   "source": [
    "def get_size(files):\n",
    "    \"\"\"Adds the sizes of the files in a directory and returns the total.\"\"\"\n",
    "    size = 0\n",
    "    for i in files:\n",
    "        size += int(i.split('.')[0])\n",
    "    \n",
    "    return size"
   ]
  },
  {
   "cell_type": "code",
   "execution_count": 43,
   "metadata": {},
   "outputs": [
    {
     "name": "stdout",
     "output_type": "stream",
     "text": [
      "212421\n",
      "307337\n"
     ]
    },
    {
     "data": {
      "text/plain": [
       "519758"
      ]
     },
     "execution_count": 43,
     "metadata": {},
     "output_type": "execute_result"
    }
   ],
   "source": [
    "get_size(df_files[0]) # Example printing the two files added up"
   ]
  },
  {
   "cell_type": "code",
   "execution_count": 57,
   "metadata": {},
   "outputs": [
    {
     "name": "stdout",
     "output_type": "stream",
     "text": [
      "(185,)\n"
     ]
    }
   ],
   "source": [
    "# Lowest directory level has 10 slashes. Using this to handle lowest levels first.\n",
    "number = []\n",
    "for i in range(10, 0, -1):\n",
    "    number.append(i)\n",
    "\n",
    "# Starting with the lowest level directories and going to higher levels\n",
    "# This adds up the sizes of files in each directory and also the sizes of the lower level directories\n",
    "\n",
    "sizes = np.zeros(len(df_root))\n",
    "print(sizes.shape)\n",
    "\n",
    "for i in number:\n",
    "    for j in range(len(df_root)):\n",
    "        if df_root[j].count('/') == i:\n",
    "            sizes[j] += get_size(df_files[j])\n",
    "            if len(df_dirs[j]) > 0:\n",
    "                for k in range(len(df_dirs[j])):\n",
    "                    root = df_root.index(f'{df_root[j]}/{df_dirs[j][k]}')\n",
    "                    sizes[j] += sizes[root]"
   ]
  },
  {
   "cell_type": "code",
   "execution_count": 58,
   "metadata": {},
   "outputs": [
    {
     "name": "stdout",
     "output_type": "stream",
     "text": [
      "[4.2476859e+07 1.7923600e+05 4.9445000e+05 1.0632043e+07 3.6587970e+06\n",
      " 2.1127300e+05 1.0699390e+06 2.9285600e+05 1.7770300e+05 2.0039500e+06\n",
      " 1.4211970e+06 4.1859600e+05 1.2412000e+04 1.2412000e+04 2.9383200e+05\n",
      " 1.9615900e+05 1.5400800e+05 6.2591220e+06 8.0585200e+05 2.1656620e+06\n",
      " 1.4067570e+06 6.2946000e+05 2.4286700e+05 6.2647000e+04 6.2647000e+04\n",
      " 2.9604600e+05 2.9289900e+05 2.1340450e+06 4.2125800e+05 4.0660900e+05\n",
      " 1.0669210e+06 3.2987000e+04 4.4822000e+05 2.3925700e+05 4.9332400e+05\n",
      " 1.5295800e+05 2.5386700e+05 2.4916000e+04 6.6006400e+05 5.0682500e+05\n",
      " 8.6878460e+06 1.0699130e+06 7.0984000e+04 2.8815900e+05 6.4118100e+05\n",
      " 6.9589000e+04 1.1424860e+06 2.0975800e+05 1.1060000e+04 2.8422250e+06\n",
      " 2.9155400e+05 2.0833670e+06 1.6863100e+05 6.5956000e+05 7.4345000e+04\n",
      " 4.8083800e+05 2.0708300e+05 2.0708300e+05 2.0708300e+05 2.7375500e+05\n",
      " 1.1143490e+06 3.9572700e+05 1.7415100e+05 4.6730400e+05 3.3071800e+05\n",
      " 3.3071800e+05 3.6221620e+06 4.6002500e+05 2.4280000e+05 6.0421000e+05\n",
      " 3.6799100e+05 3.6799100e+05 1.4125840e+06 5.5332400e+05 1.9707900e+05\n",
      " 9.8034000e+04 1.7831881e+07 1.3454100e+05 6.0071900e+05 6.4193000e+04\n",
      " 5.4163000e+06 1.3311030e+06 7.7909800e+05 9.1215000e+04 3.9435700e+05\n",
      " 6.1301000e+04 6.1301000e+04 2.8193600e+05 6.0362000e+04 6.0362000e+04\n",
      " 2.1154300e+05 5.1339000e+05 2.4819820e+06 2.5491000e+05 4.1994000e+05\n",
      " 1.2663760e+06 6.1268000e+04 3.0666300e+05 4.6062500e+05 2.7930500e+05\n",
      " 1.8132000e+05 3.0647100e+05 1.5912000e+05 4.4245540e+06 6.9099900e+05\n",
      " 2.0021700e+05 3.0291500e+05 1.8786700e+05 3.7713000e+04 1.5015400e+05\n",
      " 1.4923700e+05 1.4923700e+05 2.1610000e+05 5.5028700e+05 1.4218400e+05\n",
      " 1.4218400e+05 2.2473800e+06 1.5744700e+05 1.5744700e+05 1.5744700e+05\n",
      " 8.8234400e+05 1.1800100e+05 7.6434300e+05 4.2290900e+05 3.4143400e+05\n",
      " 9.9356000e+04 9.9356000e+04 4.3995100e+05 4.3995100e+05 4.3995100e+05\n",
      " 1.2107300e+05 3.5124700e+05 2.3138500e+05 1.1986200e+05 1.1986200e+05\n",
      " 4.1639100e+05 2.1912700e+05 1.5923700e+05 8.0555000e+04 7.8682000e+04\n",
      " 1.3990190e+06 6.9509300e+05 9.3850000e+03 1.1594900e+05 1.1594900e+05\n",
      " 3.9696100e+05 2.5816000e+04 5.3496560e+06 5.1636000e+04 4.9025400e+05\n",
      " 4.3065000e+04 1.0860700e+05 2.6157140e+06 3.7917600e+05 8.8011500e+05\n",
      " 2.4262100e+05 6.2971800e+05 1.6175770e+06 1.3106490e+06 1.3106490e+06\n",
      " 1.2587890e+06 1.9709300e+05 1.9709300e+05 1.9709300e+05 3.0692800e+05\n",
      " 2.0473800e+05 2.0473800e+05 2.0473800e+05 4.1316450e+06 2.0026180e+06\n",
      " 4.1734100e+05 1.2591400e+05 2.5109400e+05 2.5109400e+05 8.1765300e+05\n",
      " 7.6762400e+05 1.1683300e+05 1.4614400e+05 9.7769500e+05 1.5157900e+05\n",
      " 8.2611600e+05 2.7583300e+05 5.0353100e+05 1.8056800e+05 2.1771900e+05]\n"
     ]
    }
   ],
   "source": [
    "print(sizes)"
   ]
  },
  {
   "cell_type": "code",
   "execution_count": 64,
   "metadata": {},
   "outputs": [
    {
     "name": "stdout",
     "output_type": "stream",
     "text": [
      "1517599.0\n"
     ]
    }
   ],
   "source": [
    "# Add up total sizes of directories with individual sizes <= 100000.\n",
    "\n",
    "total_size = 0\n",
    "for i in range(185):\n",
    "    if sizes[i] <= 1e5:\n",
    "        total_size += sizes[i]\n",
    "\n",
    "print(total_size)"
   ]
  },
  {
   "attachments": {},
   "cell_type": "markdown",
   "metadata": {},
   "source": [
    "### Part 2"
   ]
  },
  {
   "cell_type": "code",
   "execution_count": 72,
   "metadata": {},
   "outputs": [
    {
     "name": "stdout",
     "output_type": "stream",
     "text": [
      "2481982.0\n"
     ]
    }
   ],
   "source": [
    "# Consider having total space of 7e7. Find the smallest folder you can clear to get to 3e7 free disk space.\n",
    "# sizes[0] is the total disk space used\n",
    "\n",
    "space_tofree = (3e7 - (7e7 - sizes[0]))\n",
    "\n",
    "sizes[np.argsort(np.abs(sizes - space_tofree))[0]]\n",
    "# This finds the closest value but you need the value closest that is above the space to free.\n",
    "closest_1 = sizes[np.argsort(np.abs(sizes - space_tofree))[0]]\n",
    "closest_2 = sizes[np.argsort(np.abs(sizes - space_tofree))[1]]\n",
    "if closest_1 > space_tofree:\n",
    "    print(closest_1)\n",
    "else:\n",
    "    print(closest_2)\n"
   ]
  },
  {
   "cell_type": "code",
   "execution_count": null,
   "metadata": {},
   "outputs": [],
   "source": []
  }
 ],
 "metadata": {
  "kernelspec": {
   "display_name": "base",
   "language": "python",
   "name": "python3"
  },
  "language_info": {
   "codemirror_mode": {
    "name": "ipython",
    "version": 3
   },
   "file_extension": ".py",
   "mimetype": "text/x-python",
   "name": "python",
   "nbconvert_exporter": "python",
   "pygments_lexer": "ipython3",
   "version": "3.9.12"
  },
  "orig_nbformat": 4,
  "vscode": {
   "interpreter": {
    "hash": "b7ffbdd53f3ea0fd0c7a94616743709fd86dfccfc1416e10d32c8cc9c51bfe9f"
   }
  }
 },
 "nbformat": 4,
 "nbformat_minor": 2
}
