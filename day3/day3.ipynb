{
 "cells": [
  {
   "attachments": {},
   "cell_type": "markdown",
   "metadata": {},
   "source": [
    "### https://adventofcode.com/2022/day/3\n",
    "\n",
    "\n",
    "### Part 1\n",
    "### What is the sum of the priorities of those item types?"
   ]
  },
  {
   "cell_type": "code",
   "execution_count": 6,
   "metadata": {},
   "outputs": [],
   "source": [
    "import math\n",
    "import numpy as np\n",
    "from string import ascii_uppercase, ascii_lowercase"
   ]
  },
  {
   "cell_type": "code",
   "execution_count": 12,
   "metadata": {},
   "outputs": [
    {
     "name": "stdout",
     "output_type": "stream",
     "text": [
      "['CjhshBJCSrTTsLwqwqwb' 'GtmnFHlDfcpHbLZjtTTRLWwb' 'fDfNHHjVFNvvrvVBJJdS'\n",
      " 'PPWvWQjPhrPQwlMWJJdMDGbJTdCJ' 'rsqsStgNNggBNBZHSrJGdJdCFRRZCFbGbTdJ']\n",
      "(300,)\n"
     ]
    }
   ],
   "source": [
    "# Formatting the instructions.\n",
    "\n",
    "puzzle = np.loadtxt('day3/puzzle.txt', dtype=str)\n",
    "print(puzzle[0:5])\n",
    "print(puzzle.shape)"
   ]
  },
  {
   "cell_type": "code",
   "execution_count": 13,
   "metadata": {},
   "outputs": [
    {
     "name": "stdout",
     "output_type": "stream",
     "text": [
      "abcdefghijklmnopqrstuvwxyzABCDEFGHIJKLMNOPQRSTUVWXYZ\n",
      "{'a': 1, 'b': 2, 'c': 3, 'd': 4, 'e': 5, 'f': 6, 'g': 7, 'h': 8, 'i': 9, 'j': 10, 'k': 11, 'l': 12, 'm': 13, 'n': 14, 'o': 15, 'p': 16, 'q': 17, 'r': 18, 's': 19, 't': 20, 'u': 21, 'v': 22, 'w': 23, 'x': 24, 'y': 25, 'z': 26, 'A': 27, 'B': 28, 'C': 29, 'D': 30, 'E': 31, 'F': 32, 'G': 33, 'H': 34, 'I': 35, 'J': 36, 'K': 37, 'L': 38, 'M': 39, 'N': 40, 'O': 41, 'P': 42, 'Q': 43, 'R': 44, 'S': 45, 'T': 46, 'U': 47, 'V': 48, 'W': 49, 'X': 50, 'Y': 51, 'Z': 52}\n"
     ]
    }
   ],
   "source": [
    "letters = ascii_lowercase + ascii_uppercase\n",
    "print(letters)\n",
    "priorities = {}\n",
    "\n",
    "for i in range(52):\n",
    "    priorities[letters[i]] = i + 1\n",
    "\n",
    "print(priorities)"
   ]
  },
  {
   "cell_type": "code",
   "execution_count": 29,
   "metadata": {},
   "outputs": [
    {
     "name": "stdout",
     "output_type": "stream",
     "text": [
      "7766\n"
     ]
    }
   ],
   "source": [
    "# Cycle through the instructions checking which character is common between the first and second half of the string.\n",
    "\n",
    "count = 0\n",
    "\n",
    "for i in range(puzzle.shape[0]):\n",
    "    first = puzzle[i][:int(len(puzzle[i]) / 2)]\n",
    "    second = puzzle[i][int(len(puzzle[i]) / 2):]\n",
    "    # print(len(first), len(second))\n",
    "    common = set(first).intersection(second)\n",
    "    # print(common, priorities[list(common)[0]])\n",
    "    count += priorities[list(common)[0]]\n",
    "\n",
    "print(count)"
   ]
  },
  {
   "attachments": {},
   "cell_type": "markdown",
   "metadata": {},
   "source": [
    "### Part 2"
   ]
  },
  {
   "cell_type": "code",
   "execution_count": 34,
   "metadata": {},
   "outputs": [
    {
     "name": "stdout",
     "output_type": "stream",
     "text": [
      "2415\n"
     ]
    }
   ],
   "source": [
    "# Cycle through the instructions checking if one range overlaps with the other at all.\n",
    "\n",
    "count = 0\n",
    "\n",
    "for i in range(int(puzzle.shape[0] / 3)):\n",
    "    j = 3 * i\n",
    "    first, second, third = puzzle[j], puzzle[j+1], puzzle[j+2]\n",
    "    common = set(first).intersection(second)\n",
    "    common = common.intersection(third)\n",
    "    # print(common)\n",
    "    count += priorities[list(common)[0]]\n",
    "\n",
    "print(count)\n"
   ]
  },
  {
   "cell_type": "code",
   "execution_count": null,
   "metadata": {},
   "outputs": [],
   "source": []
  }
 ],
 "metadata": {
  "kernelspec": {
   "display_name": "base",
   "language": "python",
   "name": "python3"
  },
  "language_info": {
   "codemirror_mode": {
    "name": "ipython",
    "version": 3
   },
   "file_extension": ".py",
   "mimetype": "text/x-python",
   "name": "python",
   "nbconvert_exporter": "python",
   "pygments_lexer": "ipython3",
   "version": "3.9.12"
  },
  "orig_nbformat": 4,
  "vscode": {
   "interpreter": {
    "hash": "b7ffbdd53f3ea0fd0c7a94616743709fd86dfccfc1416e10d32c8cc9c51bfe9f"
   }
  }
 },
 "nbformat": 4,
 "nbformat_minor": 2
}
