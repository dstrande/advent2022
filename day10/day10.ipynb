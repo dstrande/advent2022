{
 "cells": [
  {
   "attachments": {},
   "cell_type": "markdown",
   "metadata": {},
   "source": [
    "### https://adventofcode.com/2022/day/10\n",
    "\n",
    "\n",
    "### Part 1\n",
    "### Find the sum of the signal strengths (register * cycle #) for cycle 20, 60, 100, 140, 180, 220"
   ]
  },
  {
   "cell_type": "code",
   "execution_count": 3,
   "metadata": {},
   "outputs": [],
   "source": [
    "import math\n",
    "import numpy as np"
   ]
  },
  {
   "cell_type": "code",
   "execution_count": 40,
   "metadata": {},
   "outputs": [],
   "source": [
    "class instructions():\n",
    "    def __init__(self):\n",
    "        self.cycle = 1\n",
    "        self.register = 1\n",
    "        self.cycles_tocheck = [20, 60, 100, 140, 180, 220]\n",
    "        self.to_sum = [0, 0, 0, 0, 0, 0]\n",
    "        self.instruct_test = np.loadtxt('day10/actual.txt', dtype=str, delimiter=',')\n",
    "\n",
    "\n",
    "    def noop(self):\n",
    "        self.cycle += 1\n",
    "        if self.cycle in self.cycles_tocheck:\n",
    "            idx = self.cycles_tocheck.index(self.cycle)\n",
    "            self.to_sum[idx] = self.cycle * self.register\n",
    "            print(f'noop: {self.cycle} {self.register}')\n",
    "\n",
    "\n",
    "    def addx(self, V):\n",
    "        self.cycle += 2\n",
    "        self.register += V\n",
    "        if (self.cycle - 1) in self.cycles_tocheck:\n",
    "            idx = self.cycles_tocheck.index(self.cycle - 1)\n",
    "            self.to_sum[idx] = (self.cycle - 1) * (self.register - V)\n",
    "            print(f'addx - 1: {self.cycle} {self.register}')\n",
    "        if self.cycle in self.cycles_tocheck:\n",
    "            idx = self.cycles_tocheck.index(self.cycle)\n",
    "            self.to_sum[idx] = self.cycle * self.register\n",
    "            print(f'addx: {self.cycle} {self.register}')            \n",
    "\n",
    "\n",
    "    def dothis(self):\n",
    "        for i in range(self.instruct_test.shape[0]):\n",
    "            if self.instruct_test[i] == 'noop':\n",
    "                self.noop()\n",
    "            else:\n",
    "                val = self.instruct_test[i][5:]\n",
    "                self.addx(int(val))\n",
    "\n",
    "\n",
    "        print(f'The signals are: {self.to_sum}.')\n",
    "        print(f'Sum of signals is: {sum(self.to_sum)}.')\n"
   ]
  },
  {
   "cell_type": "code",
   "execution_count": 41,
   "metadata": {},
   "outputs": [
    {
     "name": "stdout",
     "output_type": "stream",
     "text": [
      "addx - 1: 21 21\n",
      "addx - 1: 61 19\n",
      "addx: 100 21\n",
      "addx - 1: 141 19\n",
      "addx - 1: 181 19\n",
      "addx: 220 21\n",
      "The signals are: [340, 1020, 2100, 2380, 3060, 4620].\n",
      "Sum of signals is: 13520.\n"
     ]
    }
   ],
   "source": [
    "actual = instructions()\n",
    "actual.dothis()"
   ]
  },
  {
   "attachments": {},
   "cell_type": "markdown",
   "metadata": {},
   "source": [
    "### Part 2"
   ]
  },
  {
   "cell_type": "code",
   "execution_count": 54,
   "metadata": {},
   "outputs": [],
   "source": [
    "class instructions():\n",
    "    def __init__(self):\n",
    "        self.cycle = 1\n",
    "        self.register = 1\n",
    "        self.cycles_tocheck = [20, 60, 100, 140, 180, 220]\n",
    "        self.to_sum = [0, 0, 0, 0, 0, 0]\n",
    "        self.instruct_test = np.loadtxt('day10/actual.txt', dtype=str, delimiter=',')\n",
    "        self.screen = np.zeros(240, str)\n",
    "        self.screen[:] = '.'\n",
    "\n",
    "\n",
    "    def noop(self):\n",
    "        self.check_pix(self.cycle, self.register)\n",
    "        self.cycle += 1\n",
    "        if self.cycle in self.cycles_tocheck:\n",
    "            idx = self.cycles_tocheck.index(self.cycle)\n",
    "            self.to_sum[idx] = self.cycle * self.register\n",
    "            # print(f'noop: {self.cycle} {self.register}')\n",
    "\n",
    "\n",
    "    def addx(self, V):\n",
    "        self.check_pix(self.cycle, self.register)\n",
    "        self.cycle += 1\n",
    "        self.check_pix(self.cycle, self.register)\n",
    "        self.cycle += 1\n",
    "        self.register += V\n",
    "        if (self.cycle - 1) in self.cycles_tocheck:\n",
    "            idx = self.cycles_tocheck.index(self.cycle - 1)\n",
    "            self.to_sum[idx] = (self.cycle - 1) * (self.register - V)\n",
    "            # print(f'addx - 1: {self.cycle} {self.register}')\n",
    "        if self.cycle in self.cycles_tocheck:\n",
    "            idx = self.cycles_tocheck.index(self.cycle)\n",
    "            self.to_sum[idx] = self.cycle * self.register\n",
    "            # print(f'addx: {self.cycle} {self.register}')\n",
    "\n",
    "    \n",
    "    def check_pix(self, cycle, register):\n",
    "        \"\"\"Check if the pixel is drawn or not\"\"\"\n",
    "        if 0 < cycle < 41:\n",
    "            pass\n",
    "        if 40 < cycle < 81:\n",
    "            cycle -= 40\n",
    "        if 80 < cycle < 121:\n",
    "            cycle -= 80\n",
    "        if 120 < cycle < 161:\n",
    "            cycle -= 120\n",
    "        if 160 < cycle < 201:\n",
    "            cycle -= 160\n",
    "        if 200 < cycle < 241:\n",
    "            cycle -= 200\n",
    "        # print(cycle, register, np.abs((cycle - 1) - register), np.abs((cycle - 1) - register) < 2)\n",
    "        if np.abs((cycle - 1) - register) < 2:\n",
    "            self.screen[self.cycle - 1] = '#'\n",
    "\n",
    "\n",
    "    def dothis(self):\n",
    "        for i in range(self.instruct_test.shape[0]):\n",
    "            if self.instruct_test[i] == 'noop':\n",
    "                self.noop()\n",
    "            else:\n",
    "                val = self.instruct_test[i][5:]\n",
    "                self.addx(int(val))\n",
    "\n",
    "\n",
    "        print(f'The signals are: {self.to_sum}.')\n",
    "        print(f'Sum of signals is: {sum(self.to_sum)}.')\n",
    "        self.screen = self.screen.reshape((6, 40))\n",
    "        np.set_printoptions(linewidth=np.inf)\n",
    "        print(self.screen)\n"
   ]
  },
  {
   "cell_type": "code",
   "execution_count": 55,
   "metadata": {},
   "outputs": [
    {
     "name": "stdout",
     "output_type": "stream",
     "text": [
      "The signals are: [340, 1020, 2100, 2380, 3060, 4620].\n",
      "Sum of signals is: 13520.\n",
      "[['#' '#' '#' '.' '.' '.' '#' '#' '.' '.' '#' '#' '#' '.' '.' '#' '.' '.' '#' '.' '#' '#' '#' '.' '.' '#' '#' '#' '#' '.' '.' '#' '#' '.' '.' '#' '#' '#' '.' '.']\n",
      " ['#' '.' '.' '#' '.' '#' '.' '.' '#' '.' '#' '.' '.' '#' '.' '#' '.' '.' '#' '.' '#' '.' '.' '#' '.' '#' '.' '.' '.' '.' '#' '.' '.' '#' '.' '#' '.' '.' '#' '.']\n",
      " ['#' '.' '.' '#' '.' '#' '.' '.' '.' '.' '#' '.' '.' '#' '.' '#' '#' '#' '#' '.' '#' '#' '#' '.' '.' '#' '#' '#' '.' '.' '#' '.' '.' '#' '.' '#' '#' '#' '.' '.']\n",
      " ['#' '#' '#' '.' '.' '#' '.' '#' '#' '.' '#' '#' '#' '.' '.' '#' '.' '.' '#' '.' '#' '.' '.' '#' '.' '#' '.' '.' '.' '.' '#' '#' '#' '#' '.' '#' '.' '.' '#' '.']\n",
      " ['#' '.' '.' '.' '.' '#' '.' '.' '#' '.' '#' '.' '.' '.' '.' '#' '.' '.' '#' '.' '#' '.' '.' '#' '.' '#' '.' '.' '.' '.' '#' '.' '.' '#' '.' '#' '.' '.' '#' '.']\n",
      " ['#' '.' '.' '.' '.' '.' '#' '#' '#' '.' '#' '.' '.' '.' '.' '#' '.' '.' '#' '.' '#' '#' '#' '.' '.' '#' '#' '#' '#' '.' '#' '.' '.' '#' '.' '#' '#' '#' '.' '.']]\n"
     ]
    }
   ],
   "source": [
    "actual = instructions()\n",
    "actual.dothis()"
   ]
  },
  {
   "cell_type": "code",
   "execution_count": null,
   "metadata": {},
   "outputs": [],
   "source": []
  }
 ],
 "metadata": {
  "kernelspec": {
   "display_name": "base",
   "language": "python",
   "name": "python3"
  },
  "language_info": {
   "codemirror_mode": {
    "name": "ipython",
    "version": 3
   },
   "file_extension": ".py",
   "mimetype": "text/x-python",
   "name": "python",
   "nbconvert_exporter": "python",
   "pygments_lexer": "ipython3",
   "version": "3.9.12"
  },
  "orig_nbformat": 4,
  "vscode": {
   "interpreter": {
    "hash": "b7ffbdd53f3ea0fd0c7a94616743709fd86dfccfc1416e10d32c8cc9c51bfe9f"
   }
  }
 },
 "nbformat": 4,
 "nbformat_minor": 2
}
