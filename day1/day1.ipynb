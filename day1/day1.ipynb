{
 "cells": [
  {
   "attachments": {},
   "cell_type": "markdown",
   "metadata": {},
   "source": [
    "### https://adventofcode.com/2022/day/1\n",
    "\n",
    "\n",
    "### Part 1\n",
    "### Find the Elf carrying the most Calories. How many total Calories is that Elf carrying??"
   ]
  },
  {
   "cell_type": "code",
   "execution_count": 2,
   "metadata": {},
   "outputs": [],
   "source": [
    "import math\n",
    "import numpy as np"
   ]
  },
  {
   "cell_type": "code",
   "execution_count": 24,
   "metadata": {},
   "outputs": [
    {
     "name": "stdout",
     "output_type": "stream",
     "text": [
      "['2991\\n', '13880\\n', '13279\\n', '1514\\n', '9507\\n', '\\n', '6544\\n', '9672\\n', '13044\\n', '4794\\n']\n"
     ]
    }
   ],
   "source": [
    "# Importing the instructions.\n",
    "\n",
    "file1 = open('day1/puzzle.txt', 'r')\n",
    "lines = file1.readlines()\n",
    "file1.close()\n",
    "print(lines[0:10])"
   ]
  },
  {
   "cell_type": "code",
   "execution_count": 25,
   "metadata": {},
   "outputs": [
    {
     "name": "stdout",
     "output_type": "stream",
     "text": [
      "68467\n"
     ]
    }
   ],
   "source": [
    "# Cycle through the list. Append a new value to the calories list for each empty line.\n",
    "\n",
    "j = 0\n",
    "calories = [0]\n",
    "\n",
    "for i in lines:\n",
    "    if i == '\\n':\n",
    "        j += 1\n",
    "        calories.append(0)\n",
    "    else:\n",
    "        calories[j] += int(i)\n",
    "\n",
    "calories = np.array(calories)\n",
    "\n",
    "print(np.max(calories))"
   ]
  },
  {
   "attachments": {},
   "cell_type": "markdown",
   "metadata": {},
   "source": [
    "### Part 2"
   ]
  },
  {
   "cell_type": "code",
   "execution_count": 28,
   "metadata": {},
   "outputs": [
    {
     "name": "stdout",
     "output_type": "stream",
     "text": [
      "203420\n"
     ]
    }
   ],
   "source": [
    "# Sort the calories list and print the sum of the top 3 values.\n",
    "\n",
    "calories = np.sort(calories)\n",
    "\n",
    "print(np.sum(calories[-3:]))"
   ]
  },
  {
   "cell_type": "code",
   "execution_count": null,
   "metadata": {},
   "outputs": [],
   "source": []
  }
 ],
 "metadata": {
  "kernelspec": {
   "display_name": "base",
   "language": "python",
   "name": "python3"
  },
  "language_info": {
   "codemirror_mode": {
    "name": "ipython",
    "version": 3
   },
   "file_extension": ".py",
   "mimetype": "text/x-python",
   "name": "python",
   "nbconvert_exporter": "python",
   "pygments_lexer": "ipython3",
   "version": "3.9.12"
  },
  "orig_nbformat": 4,
  "vscode": {
   "interpreter": {
    "hash": "b7ffbdd53f3ea0fd0c7a94616743709fd86dfccfc1416e10d32c8cc9c51bfe9f"
   }
  }
 },
 "nbformat": 4,
 "nbformat_minor": 2
}
