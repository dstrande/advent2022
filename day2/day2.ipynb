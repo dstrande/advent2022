{
 "cells": [
  {
   "attachments": {},
   "cell_type": "markdown",
   "metadata": {},
   "source": [
    "### https://adventofcode.com/2022/day/2\n",
    "\n",
    "\n",
    "### Part 1\n",
    "### What would your total score be if everything goes exactly according to your strategy guide??"
   ]
  },
  {
   "cell_type": "code",
   "execution_count": 3,
   "metadata": {},
   "outputs": [],
   "source": [
    "import math\n",
    "import numpy as np"
   ]
  },
  {
   "cell_type": "code",
   "execution_count": 4,
   "metadata": {},
   "outputs": [
    {
     "name": "stdout",
     "output_type": "stream",
     "text": [
      "[['C' 'Z']\n",
      " ['C' 'Z']\n",
      " ['A' 'Y']\n",
      " ['A' 'X']\n",
      " ['C' 'Z']]\n",
      "(2500, 2)\n"
     ]
    }
   ],
   "source": [
    "# Formatting the instructions.\n",
    "\n",
    "puzzle = np.loadtxt('day2/puzzle.txt', dtype=str)\n",
    "print(puzzle[0:5])\n",
    "print(puzzle.shape)"
   ]
  },
  {
   "cell_type": "code",
   "execution_count": 5,
   "metadata": {},
   "outputs": [],
   "source": [
    "# Score for your choice of rock (X), paper (Y), scissors (Z).\n",
    "\n",
    "score_dict = {'X': 1, 'Y': 2, 'Z':3}\n",
    "\n",
    "\n",
    "# Function returning score for each game depending on winning, tying or losing.\n",
    "\n",
    "def game(arr):\n",
    "    if arr[0] == 'A':\n",
    "        if arr[1] == 'X':\n",
    "            return 3\n",
    "        if arr[1] == 'Y':\n",
    "            return 6\n",
    "        if arr[1] == 'Z':\n",
    "            return 0\n",
    "    \n",
    "    if arr[0] == 'B':\n",
    "        if arr[1] == 'X':\n",
    "            return 0\n",
    "        if arr[1] == 'Y':\n",
    "            return 3\n",
    "        if arr[1] == 'Z':\n",
    "            return 6\n",
    "\n",
    "    if arr[0] == 'C':\n",
    "        if arr[1] == 'X':\n",
    "            return 6\n",
    "        if arr[1] == 'Y':\n",
    "            return 0\n",
    "        if arr[1] == 'Z':\n",
    "            return 3"
   ]
  },
  {
   "cell_type": "code",
   "execution_count": 13,
   "metadata": {},
   "outputs": [
    {
     "name": "stdout",
     "output_type": "stream",
     "text": [
      "12156\n"
     ]
    }
   ],
   "source": [
    "# Cycle through the instructions and adding the score for the game and for what you played.\n",
    "\n",
    "score = 0\n",
    "\n",
    "for i in range(puzzle.shape[0]):\n",
    "    arr = puzzle[i]\n",
    "    # print(arr)\n",
    "    score += score_dict[arr[1]]\n",
    "    score += game(arr)\n",
    "\n",
    "print(score)"
   ]
  },
  {
   "attachments": {},
   "cell_type": "markdown",
   "metadata": {},
   "source": [
    "### Part 2"
   ]
  },
  {
   "cell_type": "code",
   "execution_count": 14,
   "metadata": {},
   "outputs": [],
   "source": [
    "# Score if you win (Z), tie (Y), or lose (X).\n",
    "\n",
    "score_dict = {'X': 0, 'Y': 3, 'Z':6}\n",
    "\n",
    "# Function returning score for each game depending on if you play rock, paper, or scissors.\n",
    "\n",
    "def game(arr):\n",
    "    if arr[0] == 'A':\n",
    "        if arr[1] == 'X':\n",
    "            return 3\n",
    "        if arr[1] == 'Y':\n",
    "            return 1\n",
    "        if arr[1] == 'Z':\n",
    "            return 2\n",
    "    \n",
    "    if arr[0] == 'B':\n",
    "        if arr[1] == 'X':\n",
    "            return 1\n",
    "        if arr[1] == 'Y':\n",
    "            return 2\n",
    "        if arr[1] == 'Z':\n",
    "            return 3\n",
    "\n",
    "    if arr[0] == 'C':\n",
    "        if arr[1] == 'X':\n",
    "            return 2\n",
    "        if arr[1] == 'Y':\n",
    "            return 3\n",
    "        if arr[1] == 'Z':\n",
    "            return 1"
   ]
  },
  {
   "cell_type": "code",
   "execution_count": 15,
   "metadata": {},
   "outputs": [
    {
     "name": "stdout",
     "output_type": "stream",
     "text": [
      "10835\n"
     ]
    }
   ],
   "source": [
    "# Cycle through the instructions and adding the score for the game and for what you played.\n",
    "\n",
    "score = 0\n",
    "\n",
    "for i in range(puzzle.shape[0]):\n",
    "    arr = puzzle[i]\n",
    "    # print(arr)\n",
    "    score += score_dict[arr[1]]\n",
    "    score += game(arr)\n",
    "\n",
    "print(score)"
   ]
  },
  {
   "cell_type": "code",
   "execution_count": null,
   "metadata": {},
   "outputs": [],
   "source": []
  }
 ],
 "metadata": {
  "kernelspec": {
   "display_name": "base",
   "language": "python",
   "name": "python3"
  },
  "language_info": {
   "codemirror_mode": {
    "name": "ipython",
    "version": 3
   },
   "file_extension": ".py",
   "mimetype": "text/x-python",
   "name": "python",
   "nbconvert_exporter": "python",
   "pygments_lexer": "ipython3",
   "version": "3.9.12 (main, Apr  4 2022, 05:22:27) [MSC v.1916 64 bit (AMD64)]"
  },
  "orig_nbformat": 4,
  "vscode": {
   "interpreter": {
    "hash": "b7ffbdd53f3ea0fd0c7a94616743709fd86dfccfc1416e10d32c8cc9c51bfe9f"
   }
  }
 },
 "nbformat": 4,
 "nbformat_minor": 2
}
