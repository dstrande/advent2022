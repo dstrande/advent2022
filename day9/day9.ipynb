{
 "cells": [
  {
   "attachments": {},
   "cell_type": "markdown",
   "metadata": {},
   "source": [
    "### https://adventofcode.com/2022/day/9\n",
    "\n",
    "\n",
    "### Part 1\n",
    "### How many positions does the tail of the rope visit at least once?"
   ]
  },
  {
   "cell_type": "code",
   "execution_count": 3,
   "metadata": {},
   "outputs": [],
   "source": [
    "import math\n",
    "import numpy as np"
   ]
  },
  {
   "cell_type": "code",
   "execution_count": 4,
   "metadata": {},
   "outputs": [],
   "source": [
    "class puzzle():\n",
    "    def __init__(self):\n",
    "        self.instruct_test = np.loadtxt('day9/puzzle.txt', dtype=str)\n",
    "        self.position = [0, 0]\n",
    "        self.tail = [0, 0]\n",
    "        print(self.tail)\n",
    "        self.visited = set()\n",
    "        self.visited.add(tuple(self.tail))\n",
    "        # print(self.visited)\n",
    "        \n",
    "\n",
    "    def instruct(self, arr):\n",
    "        for i in range(int(arr[1])):\n",
    "            self.move_head(arr)\n",
    "            self.move_tail()\n",
    "\n",
    "\n",
    "    def move_head(self, arr):\n",
    "        self.previous = self.position\n",
    "\n",
    "        if arr[0] == 'U':\n",
    "            self.position = [self.position[0] + 1, self.position[1]]\n",
    "        elif arr[0] == 'R':\n",
    "            self.position = [self.position[0], self.position[1] + 1]\n",
    "        elif arr[0] == 'D':\n",
    "            self.position = [np.clip(self.position[0] - 1, -1000, None), self.position[1]]\n",
    "        elif arr[0] == 'L':\n",
    "            self.position = [self.position[0], np.clip(self.position[1] - 1, -1000, None)]\n",
    "\n",
    "\n",
    "    def move_tail(self):\n",
    "        if ((np.abs(self.position[0] - self.tail[0]) > 1) or (np.abs(self.position[1] - self.tail[1])) > 1):\n",
    "            self.tail = self.previous\n",
    "\n",
    "        else:\n",
    "            pass\n",
    "\n",
    "        self.visited.add(tuple(self.tail))\n",
    "\n",
    "\n",
    "    def run(self):\n",
    "        for x in range(2000):\n",
    "            self.instruct(self.instruct_test[x, :])\n",
    "            # print(x)\n",
    "            # if x > 1998:\n",
    "                # print(self.instruct_test[x, :])\n",
    "        \n",
    "        # print(self.visited)\n",
    "        print(len(self.visited))\n"
   ]
  },
  {
   "cell_type": "code",
   "execution_count": 5,
   "metadata": {},
   "outputs": [
    {
     "name": "stdout",
     "output_type": "stream",
     "text": [
      "[0, 0]\n",
      "6087\n"
     ]
    }
   ],
   "source": [
    "actual = puzzle()\n",
    "actual.run()"
   ]
  },
  {
   "attachments": {},
   "cell_type": "markdown",
   "metadata": {},
   "source": [
    "### Part 2"
   ]
  },
  {
   "cell_type": "code",
   "execution_count": 18,
   "metadata": {},
   "outputs": [],
   "source": [
    "class puzzle():\n",
    "    def __init__(self):\n",
    "        self.instruct_test = np.loadtxt('day9/puzzle.txt', dtype=str)\n",
    "        self.position = [0, 0]\n",
    "        self.tail = np.zeros((9, 2))\n",
    "        print(self.tail)\n",
    "        self.visited = set()\n",
    "        self.visited.add(tuple(self.tail[8]))\n",
    "        self.visit_list = []\n",
    "        self.visit_list.append(self.tail[8])\n",
    "        self.previous = np.zeros((9, 2))\n",
    "        # print(self.visited)\n",
    "        \n",
    "\n",
    "    def instruct(self, arr):\n",
    "        for i in range(int(arr[1])):\n",
    "            self.move_head(arr)\n",
    "            dist = (self.position[0] - self.tail[0][0], self.position[1] - self.tail[0][1])\n",
    "            self.tail[0] += self.move_tail(dist)\n",
    "            for j in range(8):\n",
    "                dist = (self.tail[j][0] - self.tail[j+1][0], self.tail[j][1] - self.tail[j+1][1])\n",
    "                self.tail[j+1] += self.move_tail(dist)\n",
    "            \n",
    "            # print(self.tail)\n",
    "            # print('')\n",
    "            self.visited.add(tuple(self.tail[8]))\n",
    "            self.visit_list.append(self.tail[8])\n",
    "\n",
    "\n",
    "    def move_head(self, arr):\n",
    "        self.previous[0] = self.position\n",
    "\n",
    "        if arr[0] == 'U':\n",
    "            self.position = [self.position[0] + 1, self.position[1]]\n",
    "        elif arr[0] == 'R':\n",
    "            self.position = [self.position[0], self.position[1] + 1]\n",
    "        elif arr[0] == 'D':\n",
    "            self.position = [np.clip(self.position[0] - 1, -1000, None), self.position[1]]\n",
    "        elif arr[0] == 'L':\n",
    "            self.position = [self.position[0], np.clip(self.position[1] - 1, -1000, None)]\n",
    "\n",
    "\n",
    "    def move_tail(self, dist):\n",
    "        if dist[0] in [-1,0,1] and dist[1] in [-1,0,1]: return (0,0)\n",
    "        if dist[0] > 1 and dist[1]==0: return (1,0)\n",
    "        if dist[0] < -1 and dist[1]==0: return (-1,0)\n",
    "        if dist[1] > 1 and dist[0]==0: return (0,1)\n",
    "        if dist[1] <-1 and dist[0]==0: return (0,-1)\n",
    "        if dist[0] > 0 and dist[1] > 0: return (1,1)\n",
    "        if dist[0] < 0 and dist[1] > 0: return (-1,1)\n",
    "        if dist[0] > 0 and dist[1] < 0: return (1,-1)\n",
    "        if dist[0] <0 and dist[1] < 0: return (-1,-1)\n",
    "\n",
    "\n",
    "    def run(self):\n",
    "        for x in range(2000):\n",
    "            self.instruct(self.instruct_test[x, :])\n",
    "            # print(x)\n",
    "            # if x > 1998:\n",
    "                # print(self.instruct_test[x, :])\n",
    "        \n",
    "        # print(self.visit_list)\n",
    "        # print(len(self.visit_list))\n",
    "        print(len(self.visited))\n"
   ]
  },
  {
   "cell_type": "code",
   "execution_count": 19,
   "metadata": {},
   "outputs": [
    {
     "name": "stdout",
     "output_type": "stream",
     "text": [
      "[[0. 0.]\n",
      " [0. 0.]\n",
      " [0. 0.]\n",
      " [0. 0.]\n",
      " [0. 0.]\n",
      " [0. 0.]\n",
      " [0. 0.]\n",
      " [0. 0.]\n",
      " [0. 0.]]\n",
      "2493\n"
     ]
    }
   ],
   "source": [
    "actual = puzzle()\n",
    "actual.run()"
   ]
  },
  {
   "cell_type": "code",
   "execution_count": null,
   "metadata": {},
   "outputs": [],
   "source": []
  }
 ],
 "metadata": {
  "kernelspec": {
   "display_name": "base",
   "language": "python",
   "name": "python3"
  },
  "language_info": {
   "codemirror_mode": {
    "name": "ipython",
    "version": 3
   },
   "file_extension": ".py",
   "mimetype": "text/x-python",
   "name": "python",
   "nbconvert_exporter": "python",
   "pygments_lexer": "ipython3",
   "version": "3.9.12 (main, Apr  4 2022, 05:22:27) [MSC v.1916 64 bit (AMD64)]"
  },
  "orig_nbformat": 4,
  "vscode": {
   "interpreter": {
    "hash": "b7ffbdd53f3ea0fd0c7a94616743709fd86dfccfc1416e10d32c8cc9c51bfe9f"
   }
  }
 },
 "nbformat": 4,
 "nbformat_minor": 2
}
